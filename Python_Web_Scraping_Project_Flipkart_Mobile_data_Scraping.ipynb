{
  "nbformat": 4,
  "nbformat_minor": 0,
  "metadata": {
    "colab": {
      "provenance": []
    },
    "kernelspec": {
      "name": "python3",
      "display_name": "Python 3"
    },
    "language_info": {
      "name": "python"
    }
  },
  "cells": [
    {
      "cell_type": "code",
      "execution_count": null,
      "metadata": {
        "id": "VsVRXBv0EXsO"
      },
      "outputs": [],
      "source": [
        "#Python Web Scraping Project\n",
        "\n",
        "import pandas as pd\n",
        "import requests\n",
        "from bs4 import BeautifulSoup\n",
        "\n",
        "Product_name = []\n",
        "Prices  = []\n",
        "Description = []\n",
        "Reviews = []\n",
        "\n",
        "#Scraping Multiple Pages\n",
        "for i in range(2, 12):\n",
        "  url = \"https://www.flipkart.com/search?q=mobile+under+50000&sid=tyy%2C4io&as=on&as-show=on&otracker=AS_QueryStore_OrganicAutoSuggest_1_18_na_na_na&otracker1=AS_QueryStore_OrganicAutoSuggest_1_18_na_na_na&as-pos=1&as-type=RECENT&suggestionId=mobile+under+50000%7CMobiles&requestId=16e44086-ee24-4a61-b0c6-6c60b8a7709d&as-searchtext=mobile+under+50000&page=\"+str(i)\n",
        "\n",
        "  r = requests.get(url)\n",
        "\n",
        "  soup = BeautifulSoup(r.text,\"lxml\")\n",
        "  #Scraping Specfic area\n",
        "  box = soup.find(\"div\", class_=\"_1YokD2 _3Mn1Gg\")\n",
        "\n",
        "  names = box.find_all(\"div\",class_=\"_4rR01T\")\n",
        "  for i in  names:\n",
        "    name = i.text\n",
        "    Product_name.append(name)\n",
        "\n",
        "  # print(Product_name)\n",
        "  # print(len(Product_name))\n",
        "  prices = box.find_all(\"div\",class_=\"_30jeq3 _1_WHN1\")\n",
        "  for i in prices:\n",
        "    name = i.text\n",
        "    Prices.append(name)\n",
        "  # print(Prices)\n",
        "  # print(len(Prices))\n",
        "\n",
        "  description = box.find_all(\"ul\",class_=\"_1xgFaf\")\n",
        "  for i in description:\n",
        "    name = i.text\n",
        "    Description.append(name)\n",
        "  # print(Description)\n",
        "  # print(len(Description))\n",
        "\n",
        "  review = box.find_all(\"div\",class_=\"_3LWZlK\")\n",
        "  for i in review :\n",
        "    name = i.text\n",
        "    Reviews.append(name)\n",
        "  # print(Reviews)\n",
        "  # print(len(Reviews))\n",
        "\n",
        "df = pd.DataFrame({\"Product Name\": Product_name,\"Prices\":Prices,\"Description\":Description,\"Reviews\":Reviews})\n",
        "print(df)\n",
        "\n",
        "df.to_csv(\"List of Mobile Under 50000.csv\")"
      ]
    }
  ]
}